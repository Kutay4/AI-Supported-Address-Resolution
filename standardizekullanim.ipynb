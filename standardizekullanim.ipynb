{
 "cells": [
  {
   "cell_type": "code",
   "execution_count": 1,
   "id": "86f22118",
   "metadata": {},
   "outputs": [
    {
     "name": "stderr",
     "output_type": "stream",
     "text": [
      "/Users/dorukyurdusen/Desktop/ai-supported-address-resolution/utils/standardize.py:6: TqdmWarning: IProgress not found. Please update jupyter and ipywidgets. See https://ipywidgets.readthedocs.io/en/stable/user_install.html\n",
      "  from tqdm.autonotebook import tqdm\n",
      "/Users/dorukyurdusen/Desktop/ai-supported-address-resolution/.pixi/envs/default/lib/python3.12/site-packages/spacy/util.py:922: UserWarning: [W095] Model 'tr_pipeline' (0.0.0) was trained with spaCy v3.4.4 and may not be 100% compatible with the current version (3.8.7). If you see errors or degraded performance, download a newer compatible model or retrain your custom model with the current spaCy version. For more details and available updates, run: python -m spacy validate\n",
      "  warnings.warn(warn_msg)\n"
     ]
    }
   ],
   "source": [
    "from utils.standardize import return_cannon"
   ]
  },
  {
   "cell_type": "code",
   "execution_count": 2,
   "id": "5c4da2b8",
   "metadata": {},
   "outputs": [
    {
     "name": "stdout",
     "output_type": "stream",
     "text": [
      "{'il': 'aliminyum', 'ilce': None, 'mahalle': 'yeni sanayi', 'sokak': '515', 'semt': 'emek', 'pk': None, 'diger': 'no 53 c3 blok'}\n"
     ]
    },
    {
     "data": {
      "text/html": [
       "<div><style>\n",
       ".dataframe > thead > tr,\n",
       ".dataframe > tbody > tr {\n",
       "  text-align: right;\n",
       "  white-space: pre-wrap;\n",
       "}\n",
       "</style>\n",
       "<small>shape: (3, 9)</small><table border=\"1\" class=\"dataframe\"><thead><tr><th>city_name</th><th>district_name</th><th>quarter_name</th><th>street_name</th><th>city_name_score</th><th>district_name_score</th><th>quarter_name_score</th><th>street_name_score</th><th>Overall_Score</th></tr><tr><td>cat</td><td>cat</td><td>cat</td><td>str</td><td>f32</td><td>i32</td><td>f32</td><td>f32</td><td>f64</td></tr></thead><tbody><tr><td>&quot;izmir&quot;</td><td>&quot;aliaga&quot;</td><td>&quot;yeni&quot;</td><td>&quot;515&quot;</td><td>42.857143</td><td>0</td><td>100.0</td><td>100.0</td><td>60.714286</td></tr><tr><td>&quot;aydin&quot;</td><td>&quot;nazilli&quot;</td><td>&quot;yeni sanayii&quot;</td><td>&quot;515&quot;</td><td>42.857143</td><td>0</td><td>95.652176</td><td>100.0</td><td>59.62733</td></tr><tr><td>&quot;aydin&quot;</td><td>&quot;nazilli&quot;</td><td>&quot;yeni sanayii&quot;</td><td>&quot;515&quot;</td><td>42.857143</td><td>0</td><td>95.652176</td><td>100.0</td><td>59.62733</td></tr></tbody></table></div>"
      ],
      "text/plain": [
       "shape: (3, 9)\n",
       "┌───────────┬───────────┬───────────┬───────────┬───┬───────────┬───────────┬───────────┬──────────┐\n",
       "│ city_name ┆ district_ ┆ quarter_n ┆ street_na ┆ … ┆ district_ ┆ quarter_n ┆ street_na ┆ Overall_ │\n",
       "│ ---       ┆ name      ┆ ame       ┆ me        ┆   ┆ name_scor ┆ ame_score ┆ me_score  ┆ Score    │\n",
       "│ cat       ┆ ---       ┆ ---       ┆ ---       ┆   ┆ e         ┆ ---       ┆ ---       ┆ ---      │\n",
       "│           ┆ cat       ┆ cat       ┆ str       ┆   ┆ ---       ┆ f32       ┆ f32       ┆ f64      │\n",
       "│           ┆           ┆           ┆           ┆   ┆ i32       ┆           ┆           ┆          │\n",
       "╞═══════════╪═══════════╪═══════════╪═══════════╪═══╪═══════════╪═══════════╪═══════════╪══════════╡\n",
       "│ izmir     ┆ aliaga    ┆ yeni      ┆ 515       ┆ … ┆ 0         ┆ 100.0     ┆ 100.0     ┆ 60.71428 │\n",
       "│           ┆           ┆           ┆           ┆   ┆           ┆           ┆           ┆ 6        │\n",
       "│ aydin     ┆ nazilli   ┆ yeni      ┆ 515       ┆ … ┆ 0         ┆ 95.652176 ┆ 100.0     ┆ 59.62733 │\n",
       "│           ┆           ┆ sanayii   ┆           ┆   ┆           ┆           ┆           ┆          │\n",
       "│ aydin     ┆ nazilli   ┆ yeni      ┆ 515       ┆ … ┆ 0         ┆ 95.652176 ┆ 100.0     ┆ 59.62733 │\n",
       "│           ┆           ┆ sanayii   ┆           ┆   ┆           ┆           ┆           ┆          │\n",
       "└───────────┴───────────┴───────────┴───────────┴───┴───────────┴───────────┴───────────┴──────────┘"
      ]
     },
     "execution_count": 2,
     "metadata": {},
     "output_type": "execute_result"
    }
   ],
   "source": [
    "ent_dict, tablo = return_cannon(\"Yeni sanayi mahallesi 515 sokak no 53 c3 blok emek aliminyum\",return_top=5)\n",
    "print(ent_dict)\n",
    "tablo"
   ]
  }
 ],
 "metadata": {
  "kernelspec": {
   "display_name": "default",
   "language": "python",
   "name": "python3"
  },
  "language_info": {
   "codemirror_mode": {
    "name": "ipython",
    "version": 3
   },
   "file_extension": ".py",
   "mimetype": "text/x-python",
   "name": "python",
   "nbconvert_exporter": "python",
   "pygments_lexer": "ipython3",
   "version": "3.12.11"
  }
 },
 "nbformat": 4,
 "nbformat_minor": 5
}
